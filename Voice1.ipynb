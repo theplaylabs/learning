{
 "cells": [
  {
   "cell_type": "markdown",
   "metadata": {
    "id": "aj_N2nXU3oF_"
   },
   "source": [
    "Get your openai api key from settings: https://platform.openai.com/account/api-keys"
   ]
  },
  {
   "cell_type": "code",
   "execution_count": 1,
   "metadata": {
    "id": "1lDDowVHfzd9"
   },
   "outputs": [
    {
     "name": "stdout",
     "output_type": "stream",
     "text": [
      "Requirement already satisfied: openai in c:\\users\\mattj\\appdata\\local\\packages\\pythonsoftwarefoundation.python.3.11_qbz5n2kfra8p0\\localcache\\local-packages\\python311\\site-packages (1.54.1)\n",
      "Requirement already satisfied: anyio<5,>=3.5.0 in c:\\users\\mattj\\appdata\\local\\packages\\pythonsoftwarefoundation.python.3.11_qbz5n2kfra8p0\\localcache\\local-packages\\python311\\site-packages (from openai) (3.7.1)\n",
      "Requirement already satisfied: distro<2,>=1.7.0 in c:\\users\\mattj\\appdata\\local\\packages\\pythonsoftwarefoundation.python.3.11_qbz5n2kfra8p0\\localcache\\local-packages\\python311\\site-packages (from openai) (1.9.0)\n",
      "Requirement already satisfied: httpx<1,>=0.23.0 in c:\\users\\mattj\\appdata\\local\\packages\\pythonsoftwarefoundation.python.3.11_qbz5n2kfra8p0\\localcache\\local-packages\\python311\\site-packages (from openai) (0.24.1)\n",
      "Requirement already satisfied: jiter<1,>=0.4.0 in c:\\users\\mattj\\appdata\\local\\packages\\pythonsoftwarefoundation.python.3.11_qbz5n2kfra8p0\\localcache\\local-packages\\python311\\site-packages (from openai) (0.7.0)\n",
      "Requirement already satisfied: pydantic<3,>=1.9.0 in c:\\users\\mattj\\appdata\\local\\packages\\pythonsoftwarefoundation.python.3.11_qbz5n2kfra8p0\\localcache\\local-packages\\python311\\site-packages (from openai) (1.10.12)\n",
      "Requirement already satisfied: sniffio in c:\\users\\mattj\\appdata\\local\\packages\\pythonsoftwarefoundation.python.3.11_qbz5n2kfra8p0\\localcache\\local-packages\\python311\\site-packages (from openai) (1.3.0)\n",
      "Requirement already satisfied: tqdm>4 in c:\\users\\mattj\\appdata\\local\\packages\\pythonsoftwarefoundation.python.3.11_qbz5n2kfra8p0\\localcache\\local-packages\\python311\\site-packages (from openai) (4.65.0)\n",
      "Requirement already satisfied: typing-extensions<5,>=4.11 in c:\\users\\mattj\\appdata\\local\\packages\\pythonsoftwarefoundation.python.3.11_qbz5n2kfra8p0\\localcache\\local-packages\\python311\\site-packages (from openai) (4.12.2)\n",
      "Requirement already satisfied: idna>=2.8 in c:\\users\\mattj\\appdata\\local\\packages\\pythonsoftwarefoundation.python.3.11_qbz5n2kfra8p0\\localcache\\local-packages\\python311\\site-packages (from anyio<5,>=3.5.0->openai) (3.4)\n",
      "Requirement already satisfied: certifi in c:\\users\\mattj\\appdata\\local\\packages\\pythonsoftwarefoundation.python.3.11_qbz5n2kfra8p0\\localcache\\local-packages\\python311\\site-packages (from httpx<1,>=0.23.0->openai) (2022.12.7)\n",
      "Requirement already satisfied: httpcore<0.18.0,>=0.15.0 in c:\\users\\mattj\\appdata\\local\\packages\\pythonsoftwarefoundation.python.3.11_qbz5n2kfra8p0\\localcache\\local-packages\\python311\\site-packages (from httpx<1,>=0.23.0->openai) (0.17.3)\n",
      "Requirement already satisfied: colorama in c:\\users\\mattj\\appdata\\local\\packages\\pythonsoftwarefoundation.python.3.11_qbz5n2kfra8p0\\localcache\\local-packages\\python311\\site-packages (from tqdm>4->openai) (0.4.6)\n",
      "Requirement already satisfied: h11<0.15,>=0.13 in c:\\users\\mattj\\appdata\\local\\packages\\pythonsoftwarefoundation.python.3.11_qbz5n2kfra8p0\\localcache\\local-packages\\python311\\site-packages (from httpcore<0.18.0,>=0.15.0->httpx<1,>=0.23.0->openai) (0.14.0)\n",
      "Note: you may need to restart the kernel to use updated packages.\n"
     ]
    },
    {
     "name": "stderr",
     "output_type": "stream",
     "text": [
      "\n",
      "[notice] A new release of pip is available: 23.2.1 -> 24.3.1\n",
      "[notice] To update, run: C:\\Users\\mattj\\AppData\\Local\\Microsoft\\WindowsApps\\PythonSoftwareFoundation.Python.3.11_qbz5n2kfra8p0\\python.exe -m pip install --upgrade pip\n"
     ]
    },
    {
     "name": "stdout",
     "output_type": "stream",
     "text": [
      "Requirement already satisfied: pydub in c:\\users\\mattj\\appdata\\local\\packages\\pythonsoftwarefoundation.python.3.11_qbz5n2kfra8p0\\localcache\\local-packages\\python311\\site-packages (0.25.1)\n",
      "Requirement already satisfied: simpleaudio in c:\\users\\mattj\\appdata\\local\\packages\\pythonsoftwarefoundation.python.3.11_qbz5n2kfra8p0\\localcache\\local-packages\\python311\\site-packages (1.0.4)\n",
      "Note: you may need to restart the kernel to use updated packages.\n"
     ]
    },
    {
     "name": "stderr",
     "output_type": "stream",
     "text": [
      "\n",
      "[notice] A new release of pip is available: 23.2.1 -> 24.3.1\n",
      "[notice] To update, run: C:\\Users\\mattj\\AppData\\Local\\Microsoft\\WindowsApps\\PythonSoftwareFoundation.Python.3.11_qbz5n2kfra8p0\\python.exe -m pip install --upgrade pip\n"
     ]
    },
    {
     "name": "stdout",
     "output_type": "stream",
     "text": [
      "Requirement already satisfied: nltk in c:\\users\\mattj\\appdata\\local\\packages\\pythonsoftwarefoundation.python.3.11_qbz5n2kfra8p0\\localcache\\local-packages\\python311\\site-packages (3.9.1)\n",
      "Requirement already satisfied: click in c:\\users\\mattj\\appdata\\local\\packages\\pythonsoftwarefoundation.python.3.11_qbz5n2kfra8p0\\localcache\\local-packages\\python311\\site-packages (from nltk) (8.1.6)\n",
      "Requirement already satisfied: joblib in c:\\users\\mattj\\appdata\\local\\packages\\pythonsoftwarefoundation.python.3.11_qbz5n2kfra8p0\\localcache\\local-packages\\python311\\site-packages (from nltk) (1.2.0)\n",
      "Requirement already satisfied: regex>=2021.8.3 in c:\\users\\mattj\\appdata\\local\\packages\\pythonsoftwarefoundation.python.3.11_qbz5n2kfra8p0\\localcache\\local-packages\\python311\\site-packages (from nltk) (2023.6.3)\n",
      "Requirement already satisfied: tqdm in c:\\users\\mattj\\appdata\\local\\packages\\pythonsoftwarefoundation.python.3.11_qbz5n2kfra8p0\\localcache\\local-packages\\python311\\site-packages (from nltk) (4.65.0)\n",
      "Requirement already satisfied: colorama in c:\\users\\mattj\\appdata\\local\\packages\\pythonsoftwarefoundation.python.3.11_qbz5n2kfra8p0\\localcache\\local-packages\\python311\\site-packages (from click->nltk) (0.4.6)\n",
      "Note: you may need to restart the kernel to use updated packages.\n"
     ]
    },
    {
     "name": "stderr",
     "output_type": "stream",
     "text": [
      "\n",
      "[notice] A new release of pip is available: 23.2.1 -> 24.3.1\n",
      "[notice] To update, run: C:\\Users\\mattj\\AppData\\Local\\Microsoft\\WindowsApps\\PythonSoftwareFoundation.Python.3.11_qbz5n2kfra8p0\\python.exe -m pip install --upgrade pip\n"
     ]
    }
   ],
   "source": [
    "%pip install openai --upgrade\n",
    "%pip install pydub simpleaudio\n",
    "%pip install nltk"
   ]
  },
  {
   "cell_type": "code",
   "execution_count": 1,
   "metadata": {
    "id": "-DcnuHyv3lKx"
   },
   "outputs": [],
   "source": [
    "# Get the openai secret key\n",
    "import getpass\n",
    "from openai import OpenAI\n",
    "\n",
    "secret_key = getpass.getpass(\"Please enter your openai key: \")\n",
    "import os\n",
    "os.environ[\"OPENAI_API_KEY\"]= secret_key\n"
   ]
  },
  {
   "cell_type": "code",
   "execution_count": 42,
   "metadata": {
    "id": "zTTAw81O6xs0"
   },
   "outputs": [
    {
     "data": {
      "text/plain": [
       "'¡Hola! Sí, estoy aquí. ¿Cómo puedo ayudarte con tu aprendizaje del español hoy?'"
      ]
     },
     "execution_count": 42,
     "metadata": {},
     "output_type": "execute_result"
    }
   ],
   "source": [
    "\n",
    "# OpenAI set up:\n",
    "client = OpenAI()\n",
    "client.api_key = secret_key\n",
    "# Set up OpenAI client with the provided API key\n",
    "\n",
    "def complete(prompt, stop=None):\n",
    "    response = client.chat.completions.create(\n",
    "        model=\"gpt-4o-mini\",\n",
    "        messages=[\n",
    "             {\n",
    "                \"role\": \"system\",\n",
    "                \"content\": \"You are a real-time voice chat assistant for Spanish language learning, specializing in Mexican Spanish with a natural Mexican accent.\"\n",
    "            },\n",
    "            {\n",
    "            \"role\": \"user\",\n",
    "            \"content\": prompt\n",
    "            }\n",
    "        ],\n",
    "        stop=stop\n",
    "    )\n",
    "    return response.choices[0].message.content\n",
    "\n",
    "complete(\"is this working?\")"
   ]
  },
  {
   "cell_type": "code",
   "execution_count": 3,
   "metadata": {},
   "outputs": [
    {
     "name": "stderr",
     "output_type": "stream",
     "text": [
      "C:\\Users\\mattj\\AppData\\Local\\Temp\\ipykernel_3080\\3526707331.py:13: DeprecationWarning: Due to a bug, this method doesn't actually stream the response content, `.with_streaming_response.method()` should be used instead\n",
      "  response.stream_to_file(speech_file_path)\n"
     ]
    }
   ],
   "source": [
    "from pathlib import Path\n",
    "from openai import OpenAI\n",
    "#client = OpenAI()\n",
    "filename1 = \"speech.mp3\"\n",
    "\n",
    "speech_file_path = Path.cwd() / filename1\n",
    "response = client.audio.speech.create(\n",
    "  model=\"tts-1\",\n",
    "  voice=\"onyx\",\n",
    "  input=\"a tu orden\"\n",
    ")\n",
    "\n",
    "response.stream_to_file(speech_file_path)"
   ]
  },
  {
   "cell_type": "code",
   "execution_count": 7,
   "metadata": {},
   "outputs": [],
   "source": [
    "from pydub import AudioSegment\n",
    "import simpleaudio as sa\n",
    "from pathlib import Path\n",
    "\n",
    "\n",
    "# Path to the MP3 file\n",
    "filename1 = \"intro.mp3\"\n",
    "\n",
    "#speech_file_path = Path(\"speech.mp3\")\n",
    "# Load and play the audio file\n",
    "speech_file_path = Path.cwd() / filename1\n",
    "audio = AudioSegment.from_mp3(speech_file_path)\n",
    "play_obj = sa.play_buffer(\n",
    "    audio.raw_data,\n",
    "    num_channels=audio.channels,\n",
    "    bytes_per_sample=audio.sample_width,\n",
    "    sample_rate=audio.frame_rate\n",
    ")\n",
    "play_obj.wait_done()  # Wait until playback is finished\n"
   ]
  },
  {
   "cell_type": "code",
   "execution_count": null,
   "metadata": {},
   "outputs": [],
   "source": [
    "\n",
    "\n",
    "''' \n",
    "REcord user audio (no idea how to start and stop this)(for testing should i just have a set amount of time?)\n",
    "\n",
    "''' \n"
   ]
  },
  {
   "cell_type": "code",
   "execution_count": null,
   "metadata": {},
   "outputs": [],
   "source": [
    "'''\n",
    "#transcribe to text\n",
    "audio_file = open(\"/path/to/file/speech.mp3\", \"rb\")\n",
    "transcription = client.audio.transcriptions.create(\n",
    "  model=\"whisper-1\", \n",
    "  file=audio_file, \n",
    "  response_format=\"text\"\n",
    ")\n",
    "print(transcription.text)\n",
    "\n",
    "'''"
   ]
  },
  {
   "cell_type": "code",
   "execution_count": 62,
   "metadata": {},
   "outputs": [],
   "source": [
    "myText = \"Yo ir al tienda para comprar manzanas y platanos. Cuando llegué, vi muchas frutas y verduras. El cajero me dijo que el precio son muy alto, pero no me importa. Después, yo regresar a casa y preparé un plato grande para mi familia. Todos nos gusta comer juntos.\"\n",
    "#myText = \"Hola, como estas\"\n",
    "myPrompt1 = \"\"\"\n",
    "You will receive a paragraph written in Spanish. Your task is to identify and correct major grammatical errors while adhering to the following instructions:\n",
    "\n",
    "1. Ignore gender errors.\n",
    "2. If a mistake is made but then corrected within the same paragraph, do not include that correction (e.g., \"yo comí\" followed by \"yo comer\").\n",
    "3. Ignore typing mistakes or missing accents; these are not considered errors.\n",
    "4. Ignore minor clarity issues.\n",
    "5. If there are no errors worth mentioning, output \"No Errors.\"\n",
    "\n",
    "Your output should consist only of the correct Spanish for each identified error, separated by periods. Do not provide any additional commentary or explanations. Aim for responses of 4-5 words unless more is needed.\n",
    "\n",
    "Example:\n",
    "\n",
    "Input: \"Nosotros va a la playa mañana. Ellos trae sus juguetes.\"\n",
    "\n",
    "Output: \"Nosotros vamos. Ellos traen.\"\n",
    "\"\"\"\n",
    " \n",
    "myPrompt2 = \"\"\" \n",
    "You will receive a paragraph written in Spanish. Your task is to identify and correct one major grammatical error while adhering to the following instructions:\n",
    "Ignore gender errors.\n",
    "If a mistake is made but then corrected within the same paragraph, do not include that correction (e.g., \"yo comí\" followed by \"yo comer\").\n",
    "Ignore typing mistakes or missing accents; these are not considered errors.\n",
    "Ignore minor clarity issues.\n",
    "If there are no significant errors, output \"No Errors.\"\n",
    "Your output should consist of three sentences:\n",
    "\n",
    "The original incorrect sentence, abreviated to show what was said, but not include extraneous detail.\n",
    "The corrected version with the corrected word in all caps.\n",
    "If no significant error is found, just write \"No Errors.\"\n",
    "Example:\n",
    "\n",
    "Input: Nosotros va a la playa mañana para solear. Ellos trae sus juguetes.\n",
    "\n",
    "Output: Nosotros va a la playa mañana. Nosotros VAMOS a la playa mañana.\n",
    "\"\"\""
   ]
  },
  {
   "cell_type": "code",
   "execution_count": 63,
   "metadata": {},
   "outputs": [
    {
     "name": "stdout",
     "output_type": "stream",
     "text": [
      "Yo ir al tienda para comprar manzanas y platanos. Yo FUI al tienda para comprar manzanas y platanos.\n"
     ]
    }
   ],
   "source": [
    "gptResponse = complete(f\"{myPrompt2}\\n\\n{myText}\")\n",
    "print(gptResponse)\n"
   ]
  },
  {
   "cell_type": "code",
   "execution_count": 44,
   "metadata": {},
   "outputs": [
    {
     "name": "stdout",
     "output_type": "stream",
     "text": [
      "['\"Voy a la tienda.', 'El precio es muy alto.', 'Después, regresé a casa.', 'Todos nos gusta.\"']\n"
     ]
    }
   ],
   "source": [
    "import nltk\n",
    "#nltk.download('punkt_tab')  # Download the punkt tokenizer if you haven't already\n",
    "\n",
    "def split_paragraph_into_sentences(paragraph):\n",
    "    sentences = nltk.tokenize.sent_tokenize(paragraph)\n",
    "    return sentences\n",
    "\n",
    "# Example usage\n",
    "responseSentenceSplit = split_paragraph_into_sentences(gptResponse)\n",
    "print(responseSentenceSplit)"
   ]
  },
  {
   "cell_type": "code",
   "execution_count": null,
   "metadata": {},
   "outputs": [
    {
     "name": "stdout",
     "output_type": "stream",
     "text": [
      "Filename: error1.mp3 - Sentence: \"Voy a la tienda.\n"
     ]
    },
    {
     "name": "stderr",
     "output_type": "stream",
     "text": [
      "C:\\Users\\mattj\\AppData\\Local\\Temp\\ipykernel_3080\\1777402755.py:13: DeprecationWarning: Due to a bug, this method doesn't actually stream the response content, `.with_streaming_response.method()` should be used instead\n",
      "  response.stream_to_file(speech_file_path)\n"
     ]
    },
    {
     "name": "stdout",
     "output_type": "stream",
     "text": [
      "Filename: error2.mp3 - Sentence: El precio es muy alto.\n",
      "Filename: error3.mp3 - Sentence: Después, regresé a casa.\n",
      "Filename: error4.mp3 - Sentence: Todos nos gusta.\"\n"
     ]
    }
   ],
   "source": [
    "#convert individual errors into audio\n",
    "if gptResponse != \"No Errors.\":\n",
    "    for i, sentence in enumerate(responseSentenceSplit, start=1):\n",
    "        filename = f\"error{i}.mp3\"\n",
    "        print(f\"Filename: {filename} - Sentence: {sentence}\")\n",
    "        speech_file_path = Path.cwd() / filename\n",
    "        response = client.audio.speech.create(\n",
    "        model=\"tts-1\",\n",
    "        voice=\"onyx\",\n",
    "        input=sentence\n",
    "        )\n",
    "\n",
    "        response.stream_to_file(speech_file_path)\n",
    "\n",
    "    "
   ]
  },
  {
   "cell_type": "code",
   "execution_count": 49,
   "metadata": {},
   "outputs": [],
   "source": [
    "from pydub import AudioSegment\n",
    "mergedFilename = \"MergedErrors.mp3\"\n",
    "# List of filenames to be merged\n",
    "filenames = [f\"error{i}.mp3\" for i in range(1, len(responseSentenceSplit) + 1)]\n",
    "\n",
    "# Start with an empty AudioSegment\n",
    "full_audio = AudioSegment.empty()\n",
    "\n",
    "# Set the duration of silence (in milliseconds)\n",
    "pause_duration =200  # 500 milliseconds = 0.5 seconds\n",
    "\n",
    "# Iterate through each file and add it to full_audio\n",
    "for filename in filenames:\n",
    "    audio = AudioSegment.from_mp3(filename)\n",
    "    full_audio += audio + AudioSegment.silent(duration=pause_duration) # Concatenate each audio file\n",
    "\n",
    "# Export the combined audio to Full.mp3\n",
    "full_audio.export(mergedFilename, format=\"mp3\")\n",
    "\n",
    "# play audio back\n",
    "audio_file_path = Path.cwd() / mergedFilename\n",
    "audio = AudioSegment.from_mp3(audio_file_path)\n",
    "play_obj = sa.play_buffer(\n",
    "    audio.raw_data,\n",
    "    num_channels=audio.channels,\n",
    "    bytes_per_sample=audio.sample_width,\n",
    "    sample_rate=audio.frame_rate\n",
    ")\n",
    "play_obj.wait_done()  # Wait until playback is finished"
   ]
  },
  {
   "cell_type": "code",
   "execution_count": 64,
   "metadata": {},
   "outputs": [
    {
     "name": "stderr",
     "output_type": "stream",
     "text": [
      "C:\\Users\\mattj\\AppData\\Local\\Temp\\ipykernel_3080\\3506220433.py:11: DeprecationWarning: Due to a bug, this method doesn't actually stream the response content, `.with_streaming_response.method()` should be used instead\n",
      "  response.stream_to_file(speech_file_path)\n"
     ]
    }
   ],
   "source": [
    "#convert errors into audio\n",
    "if gptResponse != \"No Errors.\":\n",
    "    filename1 = \"speech.mp3\"\n",
    "    speech_file_path = Path.cwd() / filename1\n",
    "    response = client.audio.speech.create(\n",
    "    model=\"tts-1\",\n",
    "    voice=\"onyx\",\n",
    "    input=gptResponse\n",
    "    )\n",
    "\n",
    "    response.stream_to_file(speech_file_path)\n",
    "\n",
    "    # play audio back\n",
    "    audio = AudioSegment.from_mp3(speech_file_path)\n",
    "    play_obj = sa.play_buffer(\n",
    "        audio.raw_data,\n",
    "        num_channels=audio.channels,\n",
    "        bytes_per_sample=audio.sample_width,\n",
    "        sample_rate=audio.frame_rate\n",
    "    )\n",
    "    play_obj.wait_done()  # Wait until playback is finished"
   ]
  },
  {
   "cell_type": "code",
   "execution_count": null,
   "metadata": {},
   "outputs": [],
   "source": [
    "''' \n",
    "if no corrections are needed, play 'cuentame.mp3' \n",
    "else:\n",
    "build a list of corrections\n",
    "ignore anything that's just a gender correction\n",
    "trim the correction down to the minimal amount of speaking\n",
    "generate audio for each correction (will the audio suck if it's not one long sentence and instead is multiple ones strung together?)\n",
    "    or, concat all the corrections and audio generate\n",
    "\n",
    "play audio\n",
    "'''"
   ]
  },
  {
   "cell_type": "code",
   "execution_count": null,
   "metadata": {},
   "outputs": [],
   "source": [
    "\n",
    "''' \n",
    "if the last words said were  \n",
    "nevermind - just move one\n",
    "repite - auto replay everything that was just said and ignore \n",
    "repite (algo) figure out what exactly i want repeated and repeat that audio slowly (consider slowing down the playback)\n",
    "\n",
    "Listen to audio\n",
    "I respond normally - one by one, go through the things that were said to me and check if i said them correctly back. \n",
    "    if yes, then move to the next item,\n",
    "    if no, add that item back to the audio output\n",
    "    if all yes, then continue conversation\n",
    "    otherwise, concat audio again and play new audio\n",
    "\n",
    "'''"
   ]
  }
 ],
 "metadata": {
  "colab": {
   "include_colab_link": true,
   "provenance": []
  },
  "kernelspec": {
   "display_name": "Python 3",
   "name": "python3"
  },
  "language_info": {
   "codemirror_mode": {
    "name": "ipython",
    "version": 3
   },
   "file_extension": ".py",
   "mimetype": "text/x-python",
   "name": "python",
   "nbconvert_exporter": "python",
   "pygments_lexer": "ipython3",
   "version": "3.11.9"
  }
 },
 "nbformat": 4,
 "nbformat_minor": 0
}
