{
 "cells": [
  {
   "cell_type": "markdown",
   "metadata": {
    "id": "aj_N2nXU3oF_"
   },
   "source": [
    "Get your openai api key from settings: https://platform.openai.com/account/api-keys"
   ]
  },
  {
   "cell_type": "code",
   "execution_count": 1,
   "metadata": {
    "id": "1lDDowVHfzd9"
   },
   "outputs": [
    {
     "name": "stdout",
     "output_type": "stream",
     "text": [
      "Requirement already satisfied: openai in c:\\users\\mattj\\appdata\\local\\packages\\pythonsoftwarefoundation.python.3.11_qbz5n2kfra8p0\\localcache\\local-packages\\python311\\site-packages (1.54.4)\n",
      "Requirement already satisfied: anyio<5,>=3.5.0 in c:\\users\\mattj\\appdata\\local\\packages\\pythonsoftwarefoundation.python.3.11_qbz5n2kfra8p0\\localcache\\local-packages\\python311\\site-packages (from openai) (3.7.1)\n",
      "Requirement already satisfied: distro<2,>=1.7.0 in c:\\users\\mattj\\appdata\\local\\packages\\pythonsoftwarefoundation.python.3.11_qbz5n2kfra8p0\\localcache\\local-packages\\python311\\site-packages (from openai) (1.9.0)\n",
      "Requirement already satisfied: httpx<1,>=0.23.0 in c:\\users\\mattj\\appdata\\local\\packages\\pythonsoftwarefoundation.python.3.11_qbz5n2kfra8p0\\localcache\\local-packages\\python311\\site-packages (from openai) (0.24.1)\n",
      "Requirement already satisfied: jiter<1,>=0.4.0 in c:\\users\\mattj\\appdata\\local\\packages\\pythonsoftwarefoundation.python.3.11_qbz5n2kfra8p0\\localcache\\local-packages\\python311\\site-packages (from openai) (0.7.0)\n",
      "Requirement already satisfied: pydantic<3,>=1.9.0 in c:\\users\\mattj\\appdata\\local\\packages\\pythonsoftwarefoundation.python.3.11_qbz5n2kfra8p0\\localcache\\local-packages\\python311\\site-packages (from openai) (2.9.2)\n",
      "Requirement already satisfied: sniffio in c:\\users\\mattj\\appdata\\local\\packages\\pythonsoftwarefoundation.python.3.11_qbz5n2kfra8p0\\localcache\\local-packages\\python311\\site-packages (from openai) (1.3.0)\n",
      "Requirement already satisfied: tqdm>4 in c:\\users\\mattj\\appdata\\local\\packages\\pythonsoftwarefoundation.python.3.11_qbz5n2kfra8p0\\localcache\\local-packages\\python311\\site-packages (from openai) (4.65.0)\n",
      "Requirement already satisfied: typing-extensions<5,>=4.11 in c:\\users\\mattj\\appdata\\local\\packages\\pythonsoftwarefoundation.python.3.11_qbz5n2kfra8p0\\localcache\\local-packages\\python311\\site-packages (from openai) (4.12.2)\n",
      "Requirement already satisfied: idna>=2.8 in c:\\users\\mattj\\appdata\\local\\packages\\pythonsoftwarefoundation.python.3.11_qbz5n2kfra8p0\\localcache\\local-packages\\python311\\site-packages (from anyio<5,>=3.5.0->openai) (3.4)\n",
      "Requirement already satisfied: certifi in c:\\users\\mattj\\appdata\\local\\packages\\pythonsoftwarefoundation.python.3.11_qbz5n2kfra8p0\\localcache\\local-packages\\python311\\site-packages (from httpx<1,>=0.23.0->openai) (2022.12.7)\n",
      "Requirement already satisfied: httpcore<0.18.0,>=0.15.0 in c:\\users\\mattj\\appdata\\local\\packages\\pythonsoftwarefoundation.python.3.11_qbz5n2kfra8p0\\localcache\\local-packages\\python311\\site-packages (from httpx<1,>=0.23.0->openai) (0.17.3)\n",
      "Requirement already satisfied: annotated-types>=0.6.0 in c:\\users\\mattj\\appdata\\local\\packages\\pythonsoftwarefoundation.python.3.11_qbz5n2kfra8p0\\localcache\\local-packages\\python311\\site-packages (from pydantic<3,>=1.9.0->openai) (0.7.0)\n",
      "Requirement already satisfied: pydantic-core==2.23.4 in c:\\users\\mattj\\appdata\\local\\packages\\pythonsoftwarefoundation.python.3.11_qbz5n2kfra8p0\\localcache\\local-packages\\python311\\site-packages (from pydantic<3,>=1.9.0->openai) (2.23.4)\n",
      "Requirement already satisfied: colorama in c:\\users\\mattj\\appdata\\local\\packages\\pythonsoftwarefoundation.python.3.11_qbz5n2kfra8p0\\localcache\\local-packages\\python311\\site-packages (from tqdm>4->openai) (0.4.6)\n",
      "Requirement already satisfied: h11<0.15,>=0.13 in c:\\users\\mattj\\appdata\\local\\packages\\pythonsoftwarefoundation.python.3.11_qbz5n2kfra8p0\\localcache\\local-packages\\python311\\site-packages (from httpcore<0.18.0,>=0.15.0->httpx<1,>=0.23.0->openai) (0.14.0)\n",
      "Note: you may need to restart the kernel to use updated packages.\n"
     ]
    },
    {
     "name": "stderr",
     "output_type": "stream",
     "text": [
      "WARNING: Ignoring invalid distribution ~atplotlib (C:\\Users\\mattj\\AppData\\Local\\Packages\\PythonSoftwareFoundation.Python.3.11_qbz5n2kfra8p0\\LocalCache\\local-packages\\Python311\\site-packages)\n",
      "WARNING: Ignoring invalid distribution ~atplotlib (C:\\Users\\mattj\\AppData\\Local\\Packages\\PythonSoftwareFoundation.Python.3.11_qbz5n2kfra8p0\\LocalCache\\local-packages\\Python311\\site-packages)\n",
      "WARNING: Ignoring invalid distribution ~atplotlib (C:\\Users\\mattj\\AppData\\Local\\Packages\\PythonSoftwareFoundation.Python.3.11_qbz5n2kfra8p0\\LocalCache\\local-packages\\Python311\\site-packages)\n"
     ]
    },
    {
     "name": "stdout",
     "output_type": "stream",
     "text": [
      "Requirement already satisfied: pydub in c:\\users\\mattj\\appdata\\local\\packages\\pythonsoftwarefoundation.python.3.11_qbz5n2kfra8p0\\localcache\\local-packages\\python311\\site-packages (0.25.1)\n",
      "Requirement already satisfied: simpleaudio in c:\\users\\mattj\\appdata\\local\\packages\\pythonsoftwarefoundation.python.3.11_qbz5n2kfra8p0\\localcache\\local-packages\\python311\\site-packages (1.0.4)\n",
      "Note: you may need to restart the kernel to use updated packages.\n"
     ]
    },
    {
     "name": "stderr",
     "output_type": "stream",
     "text": [
      "WARNING: Ignoring invalid distribution ~atplotlib (C:\\Users\\mattj\\AppData\\Local\\Packages\\PythonSoftwareFoundation.Python.3.11_qbz5n2kfra8p0\\LocalCache\\local-packages\\Python311\\site-packages)\n",
      "WARNING: Ignoring invalid distribution ~atplotlib (C:\\Users\\mattj\\AppData\\Local\\Packages\\PythonSoftwareFoundation.Python.3.11_qbz5n2kfra8p0\\LocalCache\\local-packages\\Python311\\site-packages)\n",
      "WARNING: Ignoring invalid distribution ~atplotlib (C:\\Users\\mattj\\AppData\\Local\\Packages\\PythonSoftwareFoundation.Python.3.11_qbz5n2kfra8p0\\LocalCache\\local-packages\\Python311\\site-packages)\n"
     ]
    },
    {
     "name": "stdout",
     "output_type": "stream",
     "text": [
      "Requirement already satisfied: nltk in c:\\users\\mattj\\appdata\\local\\packages\\pythonsoftwarefoundation.python.3.11_qbz5n2kfra8p0\\localcache\\local-packages\\python311\\site-packages (3.9.1)\n",
      "Requirement already satisfied: click in c:\\users\\mattj\\appdata\\local\\packages\\pythonsoftwarefoundation.python.3.11_qbz5n2kfra8p0\\localcache\\local-packages\\python311\\site-packages (from nltk) (8.1.6)\n",
      "Requirement already satisfied: joblib in c:\\users\\mattj\\appdata\\local\\packages\\pythonsoftwarefoundation.python.3.11_qbz5n2kfra8p0\\localcache\\local-packages\\python311\\site-packages (from nltk) (1.2.0)\n",
      "Requirement already satisfied: regex>=2021.8.3 in c:\\users\\mattj\\appdata\\local\\packages\\pythonsoftwarefoundation.python.3.11_qbz5n2kfra8p0\\localcache\\local-packages\\python311\\site-packages (from nltk) (2023.6.3)\n",
      "Requirement already satisfied: tqdm in c:\\users\\mattj\\appdata\\local\\packages\\pythonsoftwarefoundation.python.3.11_qbz5n2kfra8p0\\localcache\\local-packages\\python311\\site-packages (from nltk) (4.65.0)\n",
      "Requirement already satisfied: colorama in c:\\users\\mattj\\appdata\\local\\packages\\pythonsoftwarefoundation.python.3.11_qbz5n2kfra8p0\\localcache\\local-packages\\python311\\site-packages (from click->nltk) (0.4.6)\n",
      "Note: you may need to restart the kernel to use updated packages.\n"
     ]
    },
    {
     "name": "stderr",
     "output_type": "stream",
     "text": [
      "WARNING: Ignoring invalid distribution ~atplotlib (C:\\Users\\mattj\\AppData\\Local\\Packages\\PythonSoftwareFoundation.Python.3.11_qbz5n2kfra8p0\\LocalCache\\local-packages\\Python311\\site-packages)\n",
      "WARNING: Ignoring invalid distribution ~atplotlib (C:\\Users\\mattj\\AppData\\Local\\Packages\\PythonSoftwareFoundation.Python.3.11_qbz5n2kfra8p0\\LocalCache\\local-packages\\Python311\\site-packages)\n",
      "WARNING: Ignoring invalid distribution ~atplotlib (C:\\Users\\mattj\\AppData\\Local\\Packages\\PythonSoftwareFoundation.Python.3.11_qbz5n2kfra8p0\\LocalCache\\local-packages\\Python311\\site-packages)\n"
     ]
    },
    {
     "name": "stdout",
     "output_type": "stream",
     "text": [
      "Requirement already satisfied: pyaudio in c:\\users\\mattj\\appdata\\local\\packages\\pythonsoftwarefoundation.python.3.11_qbz5n2kfra8p0\\localcache\\local-packages\\python311\\site-packages (0.2.14)\n",
      "Requirement already satisfied: numpy in c:\\users\\mattj\\appdata\\local\\packages\\pythonsoftwarefoundation.python.3.11_qbz5n2kfra8p0\\localcache\\local-packages\\python311\\site-packages (1.24.4)\n",
      "Note: you may need to restart the kernel to use updated packages.\n"
     ]
    },
    {
     "name": "stderr",
     "output_type": "stream",
     "text": [
      "WARNING: Ignoring invalid distribution ~atplotlib (C:\\Users\\mattj\\AppData\\Local\\Packages\\PythonSoftwareFoundation.Python.3.11_qbz5n2kfra8p0\\LocalCache\\local-packages\\Python311\\site-packages)\n",
      "WARNING: Ignoring invalid distribution ~atplotlib (C:\\Users\\mattj\\AppData\\Local\\Packages\\PythonSoftwareFoundation.Python.3.11_qbz5n2kfra8p0\\LocalCache\\local-packages\\Python311\\site-packages)\n",
      "WARNING: Ignoring invalid distribution ~atplotlib (C:\\Users\\mattj\\AppData\\Local\\Packages\\PythonSoftwareFoundation.Python.3.11_qbz5n2kfra8p0\\LocalCache\\local-packages\\Python311\\site-packages)\n"
     ]
    },
    {
     "name": "stdout",
     "output_type": "stream",
     "text": [
      "Note: you may need to restart the kernel to use updated packages.\n"
     ]
    },
    {
     "name": "stderr",
     "output_type": "stream",
     "text": [
      "WARNING: Ignoring invalid distribution ~atplotlib (C:\\Users\\mattj\\AppData\\Local\\Packages\\PythonSoftwareFoundation.Python.3.11_qbz5n2kfra8p0\\LocalCache\\local-packages\\Python311\\site-packages)\n",
      "WARNING: Ignoring invalid distribution ~atplotlib (C:\\Users\\mattj\\AppData\\Local\\Packages\\PythonSoftwareFoundation.Python.3.11_qbz5n2kfra8p0\\LocalCache\\local-packages\\Python311\\site-packages)\n",
      "WARNING: Ignoring invalid distribution ~atplotlib (C:\\Users\\mattj\\AppData\\Local\\Packages\\PythonSoftwareFoundation.Python.3.11_qbz5n2kfra8p0\\LocalCache\\local-packages\\Python311\\site-packages)\n"
     ]
    },
    {
     "name": "stdout",
     "output_type": "stream",
     "text": [
      "Requirement already satisfied: sounddevice in c:\\users\\mattj\\appdata\\local\\packages\\pythonsoftwarefoundation.python.3.11_qbz5n2kfra8p0\\localcache\\local-packages\\python311\\site-packages (0.5.1)\n",
      "Requirement already satisfied: scipy in c:\\users\\mattj\\appdata\\local\\packages\\pythonsoftwarefoundation.python.3.11_qbz5n2kfra8p0\\localcache\\local-packages\\python311\\site-packages (1.10.1)\n",
      "Requirement already satisfied: CFFI>=1.0 in c:\\users\\mattj\\appdata\\local\\packages\\pythonsoftwarefoundation.python.3.11_qbz5n2kfra8p0\\localcache\\local-packages\\python311\\site-packages (from sounddevice) (1.15.1)\n",
      "Requirement already satisfied: numpy<1.27.0,>=1.19.5 in c:\\users\\mattj\\appdata\\local\\packages\\pythonsoftwarefoundation.python.3.11_qbz5n2kfra8p0\\localcache\\local-packages\\python311\\site-packages (from scipy) (1.24.4)\n",
      "Requirement already satisfied: pycparser in c:\\users\\mattj\\appdata\\local\\packages\\pythonsoftwarefoundation.python.3.11_qbz5n2kfra8p0\\localcache\\local-packages\\python311\\site-packages (from CFFI>=1.0->sounddevice) (2.21)\n",
      "Requirement already satisfied: openai-whisper in c:\\users\\mattj\\appdata\\local\\packages\\pythonsoftwarefoundation.python.3.11_qbz5n2kfra8p0\\localcache\\local-packages\\python311\\site-packages (20240930)\n",
      "Requirement already satisfied: numba in c:\\users\\mattj\\appdata\\local\\packages\\pythonsoftwarefoundation.python.3.11_qbz5n2kfra8p0\\localcache\\local-packages\\python311\\site-packages (from openai-whisper) (0.57.0)\n",
      "Requirement already satisfied: numpy in c:\\users\\mattj\\appdata\\local\\packages\\pythonsoftwarefoundation.python.3.11_qbz5n2kfra8p0\\localcache\\local-packages\\python311\\site-packages (from openai-whisper) (1.24.4)\n",
      "Requirement already satisfied: torch in c:\\users\\mattj\\appdata\\local\\packages\\pythonsoftwarefoundation.python.3.11_qbz5n2kfra8p0\\localcache\\local-packages\\python311\\site-packages (from openai-whisper) (2.0.0+cu118)\n",
      "Requirement already satisfied: tqdm in c:\\users\\mattj\\appdata\\local\\packages\\pythonsoftwarefoundation.python.3.11_qbz5n2kfra8p0\\localcache\\local-packages\\python311\\site-packages (from openai-whisper) (4.65.0)\n",
      "Requirement already satisfied: more-itertools in c:\\users\\mattj\\appdata\\local\\packages\\pythonsoftwarefoundation.python.3.11_qbz5n2kfra8p0\\localcache\\local-packages\\python311\\site-packages (from openai-whisper) (10.5.0)\n",
      "Requirement already satisfied: tiktoken in c:\\users\\mattj\\appdata\\local\\packages\\pythonsoftwarefoundation.python.3.11_qbz5n2kfra8p0\\localcache\\local-packages\\python311\\site-packages (from openai-whisper) (0.8.0)\n",
      "Requirement already satisfied: llvmlite<0.41,>=0.40.0dev0 in c:\\users\\mattj\\appdata\\local\\packages\\pythonsoftwarefoundation.python.3.11_qbz5n2kfra8p0\\localcache\\local-packages\\python311\\site-packages (from numba->openai-whisper) (0.40.0)\n",
      "Requirement already satisfied: regex>=2022.1.18 in c:\\users\\mattj\\appdata\\local\\packages\\pythonsoftwarefoundation.python.3.11_qbz5n2kfra8p0\\localcache\\local-packages\\python311\\site-packages (from tiktoken->openai-whisper) (2023.6.3)\n",
      "Requirement already satisfied: requests>=2.26.0 in c:\\users\\mattj\\appdata\\local\\packages\\pythonsoftwarefoundation.python.3.11_qbz5n2kfra8p0\\localcache\\local-packages\\python311\\site-packages (from tiktoken->openai-whisper) (2.28.2)\n",
      "Requirement already satisfied: filelock in c:\\users\\mattj\\appdata\\local\\packages\\pythonsoftwarefoundation.python.3.11_qbz5n2kfra8p0\\localcache\\local-packages\\python311\\site-packages (from torch->openai-whisper) (3.12.2)\n",
      "Requirement already satisfied: typing-extensions in c:\\users\\mattj\\appdata\\local\\packages\\pythonsoftwarefoundation.python.3.11_qbz5n2kfra8p0\\localcache\\local-packages\\python311\\site-packages (from torch->openai-whisper) (4.12.2)\n",
      "Requirement already satisfied: sympy in c:\\users\\mattj\\appdata\\local\\packages\\pythonsoftwarefoundation.python.3.11_qbz5n2kfra8p0\\localcache\\local-packages\\python311\\site-packages (from torch->openai-whisper) (1.12)\n",
      "Requirement already satisfied: networkx in c:\\users\\mattj\\appdata\\local\\packages\\pythonsoftwarefoundation.python.3.11_qbz5n2kfra8p0\\localcache\\local-packages\\python311\\site-packages (from torch->openai-whisper) (3.1)\n",
      "Requirement already satisfied: jinja2 in c:\\users\\mattj\\appdata\\local\\packages\\pythonsoftwarefoundation.python.3.11_qbz5n2kfra8p0\\localcache\\local-packages\\python311\\site-packages (from torch->openai-whisper) (3.1.2)\n",
      "Requirement already satisfied: colorama in c:\\users\\mattj\\appdata\\local\\packages\\pythonsoftwarefoundation.python.3.11_qbz5n2kfra8p0\\localcache\\local-packages\\python311\\site-packages (from tqdm->openai-whisper) (0.4.6)\n",
      "Requirement already satisfied: charset-normalizer<4,>=2 in c:\\users\\mattj\\appdata\\local\\packages\\pythonsoftwarefoundation.python.3.11_qbz5n2kfra8p0\\localcache\\local-packages\\python311\\site-packages (from requests>=2.26.0->tiktoken->openai-whisper) (3.1.0)\n",
      "Requirement already satisfied: idna<4,>=2.5 in c:\\users\\mattj\\appdata\\local\\packages\\pythonsoftwarefoundation.python.3.11_qbz5n2kfra8p0\\localcache\\local-packages\\python311\\site-packages (from requests>=2.26.0->tiktoken->openai-whisper) (3.4)\n",
      "Requirement already satisfied: urllib3<1.27,>=1.21.1 in c:\\users\\mattj\\appdata\\local\\packages\\pythonsoftwarefoundation.python.3.11_qbz5n2kfra8p0\\localcache\\local-packages\\python311\\site-packages (from requests>=2.26.0->tiktoken->openai-whisper) (1.26.15)\n",
      "Requirement already satisfied: certifi>=2017.4.17 in c:\\users\\mattj\\appdata\\local\\packages\\pythonsoftwarefoundation.python.3.11_qbz5n2kfra8p0\\localcache\\local-packages\\python311\\site-packages (from requests>=2.26.0->tiktoken->openai-whisper) (2022.12.7)\n",
      "Requirement already satisfied: MarkupSafe>=2.0 in c:\\users\\mattj\\appdata\\local\\packages\\pythonsoftwarefoundation.python.3.11_qbz5n2kfra8p0\\localcache\\local-packages\\python311\\site-packages (from jinja2->torch->openai-whisper) (2.1.3)\n",
      "Requirement already satisfied: mpmath>=0.19 in c:\\users\\mattj\\appdata\\local\\packages\\pythonsoftwarefoundation.python.3.11_qbz5n2kfra8p0\\localcache\\local-packages\\python311\\site-packages (from sympy->torch->openai-whisper) (1.3.0)\n",
      "Note: you may need to restart the kernel to use updated packages.\n"
     ]
    },
    {
     "name": "stderr",
     "output_type": "stream",
     "text": [
      "WARNING: Ignoring invalid distribution ~atplotlib (C:\\Users\\mattj\\AppData\\Local\\Packages\\PythonSoftwareFoundation.Python.3.11_qbz5n2kfra8p0\\LocalCache\\local-packages\\Python311\\site-packages)\n",
      "WARNING: Ignoring invalid distribution ~atplotlib (C:\\Users\\mattj\\AppData\\Local\\Packages\\PythonSoftwareFoundation.Python.3.11_qbz5n2kfra8p0\\LocalCache\\local-packages\\Python311\\site-packages)\n",
      "WARNING: Ignoring invalid distribution ~atplotlib (C:\\Users\\mattj\\AppData\\Local\\Packages\\PythonSoftwareFoundation.Python.3.11_qbz5n2kfra8p0\\LocalCache\\local-packages\\Python311\\site-packages)\n"
     ]
    },
    {
     "name": "stdout",
     "output_type": "stream",
     "text": [
      "Note: you may need to restart the kernel to use updated packages.Requirement already satisfied: langchain in c:\\users\\mattj\\appdata\\local\\packages\\pythonsoftwarefoundation.python.3.11_qbz5n2kfra8p0\\localcache\\local-packages\\python311\\site-packages (0.3.7)\n",
      "Requirement already satisfied: PyYAML>=5.3 in c:\\users\\mattj\\appdata\\local\\packages\\pythonsoftwarefoundation.python.3.11_qbz5n2kfra8p0\\localcache\\local-packages\\python311\\site-packages (from langchain) (6.0)\n",
      "Requirement already satisfied: SQLAlchemy<3,>=1.4 in c:\\users\\mattj\\appdata\\local\\packages\\pythonsoftwarefoundation.python.3.11_qbz5n2kfra8p0\\localcache\\local-packages\\python311\\site-packages (from langchain) (2.0.36)\n",
      "Requirement already satisfied: aiohttp<4.0.0,>=3.8.3 in c:\\users\\mattj\\appdata\\local\\packages\\pythonsoftwarefoundation.python.3.11_qbz5n2kfra8p0\\localcache\\local-packages\\python311\\site-packages (from langchain) (3.8.5)\n",
      "Requirement already satisfied: langchain-core<0.4.0,>=0.3.15 in c:\\users\\mattj\\appdata\\local\\packages\\pythonsoftwarefoundation.python.3.11_qbz5n2kfra8p0\\localcache\\local-packages\\python311\\site-packages (from langchain) (0.3.15)\n",
      "Requirement already satisfied: langchain-text-splitters<0.4.0,>=0.3.0 in c:\\users\\mattj\\appdata\\local\\packages\\pythonsoftwarefoundation.python.3.11_qbz5n2kfra8p0\\localcache\\local-packages\\python311\\site-packages (from langchain) (0.3.2)\n",
      "Requirement already satisfied: langsmith<0.2.0,>=0.1.17 in c:\\users\\mattj\\appdata\\local\\packages\\pythonsoftwarefoundation.python.3.11_qbz5n2kfra8p0\\localcache\\local-packages\\python311\\site-packages (from langchain) (0.1.142)\n",
      "Requirement already satisfied: numpy<2,>=1 in c:\\users\\mattj\\appdata\\local\\packages\\pythonsoftwarefoundation.python.3.11_qbz5n2kfra8p0\\localcache\\local-packages\\python311\\site-packages (from langchain) (1.24.4)\n",
      "Requirement already satisfied: pydantic<3.0.0,>=2.7.4 in c:\\users\\mattj\\appdata\\local\\packages\\pythonsoftwarefoundation.python.3.11_qbz5n2kfra8p0\\localcache\\local-packages\\python311\\site-packages (from langchain) (2.9.2)\n",
      "Requirement already satisfied: requests<3,>=2 in c:\\users\\mattj\\appdata\\local\\packages\\pythonsoftwarefoundation.python.3.11_qbz5n2kfra8p0\\localcache\\local-packages\\python311\\site-packages (from langchain) (2.28.2)\n",
      "Requirement already satisfied: tenacity!=8.4.0,<10,>=8.1.0 in c:\\users\\mattj\\appdata\\local\\packages\\pythonsoftwarefoundation.python.3.11_qbz5n2kfra8p0\\localcache\\local-packages\\python311\\site-packages (from langchain) (9.0.0)\n",
      "Requirement already satisfied: attrs>=17.3.0 in c:\\users\\mattj\\appdata\\local\\packages\\pythonsoftwarefoundation.python.3.11_qbz5n2kfra8p0\\localcache\\local-packages\\python311\\site-packages (from aiohttp<4.0.0,>=3.8.3->langchain) (23.1.0)\n",
      "Requirement already satisfied: charset-normalizer<4.0,>=2.0 in c:\\users\\mattj\\appdata\\local\\packages\\pythonsoftwarefoundation.python.3.11_qbz5n2kfra8p0\\localcache\\local-packages\\python311\\site-packages (from aiohttp<4.0.0,>=3.8.3->langchain) (3.1.0)\n",
      "Requirement already satisfied: multidict<7.0,>=4.5 in c:\\users\\mattj\\appdata\\local\\packages\\pythonsoftwarefoundation.python.3.11_qbz5n2kfra8p0\\localcache\\local-packages\\python311\\site-packages (from aiohttp<4.0.0,>=3.8.3->langchain) (6.0.4)\n",
      "Requirement already satisfied: async-timeout<5.0,>=4.0.0a3 in c:\\users\\mattj\\appdata\\local\\packages\\pythonsoftwarefoundation.python.3.11_qbz5n2kfra8p0\\localcache\\local-packages\\python311\\site-packages (from aiohttp<4.0.0,>=3.8.3->langchain) (4.0.2)\n",
      "Requirement already satisfied: yarl<2.0,>=1.0 in c:\\users\\mattj\\appdata\\local\\packages\\pythonsoftwarefoundation.python.3.11_qbz5n2kfra8p0\\localcache\\local-packages\\python311\\site-packages (from aiohttp<4.0.0,>=3.8.3->langchain) (1.9.2)\n",
      "Requirement already satisfied: frozenlist>=1.1.1 in c:\\users\\mattj\\appdata\\local\\packages\\pythonsoftwarefoundation.python.3.11_qbz5n2kfra8p0\\localcache\\local-packages\\python311\\site-packages (from aiohttp<4.0.0,>=3.8.3->langchain) (1.4.0)\n",
      "Requirement already satisfied: aiosignal>=1.1.2 in c:\\users\\mattj\\appdata\\local\\packages\\pythonsoftwarefoundation.python.3.11_qbz5n2kfra8p0\\localcache\\local-packages\\python311\\site-packages (from aiohttp<4.0.0,>=3.8.3->langchain) (1.3.1)\n",
      "Requirement already satisfied: jsonpatch<2.0,>=1.33 in c:\\users\\mattj\\appdata\\local\\packages\\pythonsoftwarefoundation.python.3.11_qbz5n2kfra8p0\\localcache\\local-packages\\python311\\site-packages (from langchain-core<0.4.0,>=0.3.15->langchain) (1.33)\n",
      "Requirement already satisfied: packaging<25,>=23.2 in c:\\users\\mattj\\appdata\\local\\packages\\pythonsoftwarefoundation.python.3.11_qbz5n2kfra8p0\\localcache\\local-packages\\python311\\site-packages (from langchain-core<0.4.0,>=0.3.15->langchain) (24.2)\n",
      "Requirement already satisfied: typing-extensions>=4.7 in c:\\users\\mattj\\appdata\\local\\packages\\pythonsoftwarefoundation.python.3.11_qbz5n2kfra8p0\\localcache\\local-packages\\python311\\site-packages (from langchain-core<0.4.0,>=0.3.15->langchain) (4.12.2)\n",
      "Requirement already satisfied: httpx<1,>=0.23.0 in c:\\users\\mattj\\appdata\\local\\packages\\pythonsoftwarefoundation.python.3.11_qbz5n2kfra8p0\\localcache\\local-packages\\python311\\site-packages (from langsmith<0.2.0,>=0.1.17->langchain) (0.24.1)\n",
      "Requirement already satisfied: orjson<4.0.0,>=3.9.14 in c:\\users\\mattj\\appdata\\local\\packages\\pythonsoftwarefoundation.python.3.11_qbz5n2kfra8p0\\localcache\\local-packages\\python311\\site-packages (from langsmith<0.2.0,>=0.1.17->langchain) (3.10.11)\n",
      "Requirement already satisfied: requests-toolbelt<2.0.0,>=1.0.0 in c:\\users\\mattj\\appdata\\local\\packages\\pythonsoftwarefoundation.python.3.11_qbz5n2kfra8p0\\localcache\\local-packages\\python311\\site-packages (from langsmith<0.2.0,>=0.1.17->langchain) (1.0.0)\n",
      "Requirement already satisfied: annotated-types>=0.6.0 in c:\\users\\mattj\\appdata\\local\\packages\\pythonsoftwarefoundation.python.3.11_qbz5n2kfra8p0\\localcache\\local-packages\\python311\\site-packages (from pydantic<3.0.0,>=2.7.4->langchain) (0.7.0)\n",
      "Requirement already satisfied: pydantic-core==2.23.4 in c:\\users\\mattj\\appdata\\local\\packages\\pythonsoftwarefoundation.python.3.11_qbz5n2kfra8p0\\localcache\\local-packages\\python311\\site-packages (from pydantic<3.0.0,>=2.7.4->langchain) (2.23.4)\n",
      "Requirement already satisfied: idna<4,>=2.5 in c:\\users\\mattj\\appdata\\local\\packages\\pythonsoftwarefoundation.python.3.11_qbz5n2kfra8p0\\localcache\\local-packages\\python311\\site-packages (from requests<3,>=2->langchain) (3.4)\n",
      "Requirement already satisfied: urllib3<1.27,>=1.21.1 in c:\\users\\mattj\\appdata\\local\\packages\\pythonsoftwarefoundation.python.3.11_qbz5n2kfra8p0\\localcache\\local-packages\\python311\\site-packages (from requests<3,>=2->langchain) (1.26.15)\n",
      "Requirement already satisfied: certifi>=2017.4.17 in c:\\users\\mattj\\appdata\\local\\packages\\pythonsoftwarefoundation.python.3.11_qbz5n2kfra8p0\\localcache\\local-packages\\python311\\site-packages (from requests<3,>=2->langchain) (2022.12.7)\n",
      "Requirement already satisfied: greenlet!=0.4.17 in c:\\users\\mattj\\appdata\\local\\packages\\pythonsoftwarefoundation.python.3.11_qbz5n2kfra8p0\\localcache\\local-packages\\python311\\site-packages (from SQLAlchemy<3,>=1.4->langchain) (3.1.1)\n",
      "Requirement already satisfied: httpcore<0.18.0,>=0.15.0 in c:\\users\\mattj\\appdata\\local\\packages\\pythonsoftwarefoundation.python.3.11_qbz5n2kfra8p0\\localcache\\local-packages\\python311\\site-packages (from httpx<1,>=0.23.0->langsmith<0.2.0,>=0.1.17->langchain) (0.17.3)\n",
      "Requirement already satisfied: sniffio in c:\\users\\mattj\\appdata\\local\\packages\\pythonsoftwarefoundation.python.3.11_qbz5n2kfra8p0\\localcache\\local-packages\\python311\\site-packages (from httpx<1,>=0.23.0->langsmith<0.2.0,>=0.1.17->langchain) (1.3.0)\n",
      "Requirement already satisfied: jsonpointer>=1.9 in c:\\users\\mattj\\appdata\\local\\packages\\pythonsoftwarefoundation.python.3.11_qbz5n2kfra8p0\\localcache\\local-packages\\python311\\site-packages (from jsonpatch<2.0,>=1.33->langchain-core<0.4.0,>=0.3.15->langchain) (2.4)\n",
      "Requirement already satisfied: h11<0.15,>=0.13 in c:\\users\\mattj\\appdata\\local\\packages\\pythonsoftwarefoundation.python.3.11_qbz5n2kfra8p0\\localcache\\local-packages\\python311\\site-packages (from httpcore<0.18.0,>=0.15.0->httpx<1,>=0.23.0->langsmith<0.2.0,>=0.1.17->langchain) (0.14.0)\n",
      "Requirement already satisfied: anyio<5.0,>=3.0 in c:\\users\\mattj\\appdata\\local\\packages\\pythonsoftwarefoundation.python.3.11_qbz5n2kfra8p0\\localcache\\local-packages\\python311\\site-packages (from httpcore<0.18.0,>=0.15.0->httpx<1,>=0.23.0->langsmith<0.2.0,>=0.1.17->langchain) (3.7.1)\n",
      "\n"
     ]
    },
    {
     "name": "stderr",
     "output_type": "stream",
     "text": [
      "WARNING: Ignoring invalid distribution ~atplotlib (C:\\Users\\mattj\\AppData\\Local\\Packages\\PythonSoftwareFoundation.Python.3.11_qbz5n2kfra8p0\\LocalCache\\local-packages\\Python311\\site-packages)\n",
      "WARNING: Ignoring invalid distribution ~atplotlib (C:\\Users\\mattj\\AppData\\Local\\Packages\\PythonSoftwareFoundation.Python.3.11_qbz5n2kfra8p0\\LocalCache\\local-packages\\Python311\\site-packages)\n",
      "WARNING: Ignoring invalid distribution ~atplotlib (C:\\Users\\mattj\\AppData\\Local\\Packages\\PythonSoftwareFoundation.Python.3.11_qbz5n2kfra8p0\\LocalCache\\local-packages\\Python311\\site-packages)\n"
     ]
    },
    {
     "name": "stdout",
     "output_type": "stream",
     "text": [
      "Requirement already satisfied: webrtcvad in c:\\users\\mattj\\appdata\\local\\packages\\pythonsoftwarefoundation.python.3.11_qbz5n2kfra8p0\\localcache\\local-packages\\python311\\site-packages (2.0.10)\n",
      "Note: you may need to restart the kernel to use updated packages.\n"
     ]
    },
    {
     "name": "stderr",
     "output_type": "stream",
     "text": [
      "WARNING: Ignoring invalid distribution ~atplotlib (C:\\Users\\mattj\\AppData\\Local\\Packages\\PythonSoftwareFoundation.Python.3.11_qbz5n2kfra8p0\\LocalCache\\local-packages\\Python311\\site-packages)\n",
      "WARNING: Ignoring invalid distribution ~atplotlib (C:\\Users\\mattj\\AppData\\Local\\Packages\\PythonSoftwareFoundation.Python.3.11_qbz5n2kfra8p0\\LocalCache\\local-packages\\Python311\\site-packages)\n",
      "WARNING: Ignoring invalid distribution ~atplotlib (C:\\Users\\mattj\\AppData\\Local\\Packages\\PythonSoftwareFoundation.Python.3.11_qbz5n2kfra8p0\\LocalCache\\local-packages\\Python311\\site-packages)\n"
     ]
    }
   ],
   "source": [
    "# Library Installs\n",
    "%pip install openai --upgrade\n",
    "%pip install pydub simpleaudio\n",
    "%pip install nltk\n",
    "%pip install pyaudio numpy\n",
    "%pip install sounddevice scipy\n",
    "%pip install -U openai-whisper\n",
    "%pip install langchain\n",
    "%pip install webrtcvad\n"
   ]
  },
  {
   "cell_type": "code",
   "execution_count": 2,
   "metadata": {
    "id": "-DcnuHyv3lKx"
   },
   "outputs": [],
   "source": [
    "# Library Imports\n",
    "import getpass\n",
    "from openai import OpenAI\n",
    "import os\n",
    "\n"
   ]
  },
  {
   "cell_type": "code",
   "execution_count": null,
   "metadata": {},
   "outputs": [],
   "source": [
    "# Configuration Variables\n",
    "MP3_FOLDER = \"audio_chunks\"  # Directory where audio chunks are stored\n",
    "errorsLeft = True # Set as true to enter main program While loop\n",
    "\n",
    "# WAV Recording Parameters\n",
    "\n",
    "DURATION_THRESHOLD  = 2  # Duration of silence in seconds to trigger a stop\n",
    "SAMPLE_RATE = 16000  # Sampling rate in Hz\n",
    "WAV_FOLDER = \"recordings\"  # Folder to store WAV files\n",
    "SILENCE_SAVE_BUFFER = 0.2 # a safety buffer for when we auto-trim the audio file for the DURATION_THRESHOLD before saving as WAV\n",
    "SILENCE_THRESHOLD = 0.01  # Amplitude threshold for silence (adjust as needed)\n",
    "ENERGY_THRESHOLD= 0.1  # Energy threshold for detecting silence (experiment with this value)\n",
    "ROLLING_WINDOW_SIZE = 15  # Size of the rolling window for energy averaging\n",
    "audio_folder = WAV_FOLDER"
   ]
  },
  {
   "cell_type": "code",
   "execution_count": 4,
   "metadata": {},
   "outputs": [],
   "source": [
    "# Misc Functions\n",
    "def play_mp3_audio(mp3_filename):\n",
    "    \"\"\"\n",
    "    Plays the specified MP3 file using pydub and simpleaudio.\n",
    "    \n",
    "    :param mp3_filename: Name of the MP3 file to play (should be located in the current working directory)\n",
    "    \"\"\"\n",
    "    try:\n",
    "        # Load audio file\n",
    "        audio = AudioSegment.from_mp3(Path.cwd() / mp3_filename)\n",
    "        \n",
    "        # Play the audio file\n",
    "        play_obj = sa.play_buffer(\n",
    "            audio.raw_data,\n",
    "            num_channels=audio.channels,\n",
    "            bytes_per_sample=audio.sample_width,\n",
    "            sample_rate=audio.frame_rate\n",
    "        )\n",
    "        play_obj.wait_done()  # Wait until playback is finished\n",
    "        print(f\"Finished playing {mp3_filename}\")\n",
    "    except Exception as e:\n",
    "        print(f\"Error playing audio: {e}\")\n",
    "\n",
    "def get_newest_file(directory):\n",
    "    \"\"\"Return the newest file in the specified directory.\"\"\"\n",
    "    files = [f for f in os.listdir(directory) if os.path.isfile(os.path.join(directory, f))]\n",
    "    if not files:\n",
    "        return None\n",
    "    files.sort(key=lambda f: os.path.getmtime(os.path.join(directory, f)), reverse=True)\n",
    "    return os.path.join(directory, files[0])\n"
   ]
  },
  {
   "cell_type": "code",
   "execution_count": 20,
   "metadata": {},
   "outputs": [
    {
     "name": "stdout",
     "output_type": "stream",
     "text": [
      "Recording... Speak now.\n",
      "Silence detected. Stopping recording.\n"
     ]
    }
   ],
   "source": [
    "import os\n",
    "import time\n",
    "import numpy as np\n",
    "from scipy.io.wavfile import write\n",
    "import sounddevice as sd\n",
    "import simpleaudio as sa  # For playing the ding sound\n",
    "\n",
    "# Configuration\n",
    "SILENCE_THRESHOLD = 0.02  # Adjust based on sensitivity\n",
    "DURATION_THRESHOLD = 2  # Duration of silence in seconds to trigger a stop\n",
    "SAMPLE_RATE = 16000  # Sampling rate in Hz\n",
    "\n",
    "def play_ding():\n",
    "    \"\"\"Play a ding sound to indicate start or end of recording.\"\"\"\n",
    "    wave_obj = sa.WaveObject.from_wave_file(\"ding.wav\")\n",
    "    wave_obj.play()\n",
    "\n",
    "def is_silent(data, silence_thresh=SILENCE_THRESHOLD):\n",
    "    \"\"\"Check if audio data is below a silence threshold.\"\"\"\n",
    "    return np.max(np.abs(data)) < silence_thresh\n",
    "\n",
    "def record_audio():\n",
    "    \"\"\"Record audio continuously, and return the audio buffer after prolonged silence is detected.\"\"\"\n",
    "    print(\"Recording... Speak now.\")\n",
    "    play_ding()  # Play ding sound at the start of recording\n",
    "    audio_buffer = []\n",
    "    silence_start_time = None\n",
    "    last_volume_print_time = time.time()\n",
    "\n",
    "    # Start the audio input stream\n",
    "    with sd.InputStream(samplerate=SAMPLE_RATE, channels=1, dtype='float32') as stream:\n",
    "        while True:\n",
    "            # Read a short segment of audio data (500ms)\n",
    "            data = stream.read(int(SAMPLE_RATE / 2))[0].flatten()  # 500ms chunks\n",
    "            audio_buffer.extend(data)\n",
    "\n",
    "            # Check if the audio data is silent\n",
    "            if is_silent(data):\n",
    "                if silence_start_time is None:\n",
    "                    silence_start_time = time.time()  # Start silence timer\n",
    "            else:\n",
    "                silence_start_time = None  # Reset silence timer if sound is detected\n",
    "\n",
    "            ''' \n",
    "            # Print volume level every second\n",
    "            if time.time() - last_volume_print_time > 1:\n",
    "                print(f\"Volume level: {np.max(np.abs(data))}\")\n",
    "                last_volume_print_time = time.time()\n",
    "            '''\n",
    "            # Stop recording if silence has lasted longer than the threshold\n",
    "            if silence_start_time and (time.time() - silence_start_time) > DURATION_THRESHOLD:\n",
    "                print(\"Silence detected. Stopping recording.\")\n",
    "                play_ding()  # Play ding sound at the end of recording\n",
    "                break\n",
    "\n",
    "    return np.array(audio_buffer, dtype=np.float32)\n",
    "def remove_silence_from_buffer(audio_buffer, sample_rate, silence_duration):\n",
    "    \"\"\"Remove the specified amount of silence from the end of the audio buffer.\"\"\"\n",
    "    silence_samples = int(silence_duration * sample_rate)\n",
    "    return audio_buffer[:-silence_samples]\n",
    "\n",
    "def play_audio_buffer(audio_buffer):\n",
    "    \"\"\"Play the recorded audio buffer.\"\"\"\n",
    " \n",
    "    audio_data = np.array(audio_buffer, dtype=np.float32)\n",
    "    duration = len(audio_data) / SAMPLE_RATE  # Calculate duration in seconds\n",
    "    print(f\"Playing buffer | Duration: {duration:.2f} seconds\")\n",
    "\n",
    "    # Start playback in a non-blocking mode\n",
    "    sd.play(audio_data, samplerate=SAMPLE_RATE)\n",
    "\n",
    "    # Show progress with dots updating each second\n",
    "    start_time = time.time()\n",
    "\n",
    "    while sd.get_stream().active:  # While audio is still playing\n",
    "        elapsed = time.time() - start_time\n",
    "        progress = int(elapsed / duration * 10)  # Calculate progress as a percentage of total time\n",
    "        print(f\"\\rPlaying buffer | Duration: {duration:.2f} seconds | Progress: {elapsed:.1f}s [{progress * '.':<10}]\", end=\"\")\n",
    "        time.sleep(0.1)  # Update every 0.1 second\n",
    "\n",
    "    sd.wait()  # Ensure playback has finished\n",
    "    print(\"\\rDone\" + \" \" * 50)  # Clear the line by adding spaces after \"Done\" for a clean exit\n",
    "\n",
    "def save_audio_buffer(audio_buffer, sample_rate, folder=\"recordings\"):\n",
    "    \"\"\"Save the audio buffer to a WAV file with a timestamp in the filename.\"\"\"\n",
    "    # Create the folder if it doesn't exist\n",
    "    os.makedirs(folder, exist_ok=True)\n",
    "\n",
    "    # Generate a timestamp for the filename\n",
    "    timestamp = time.strftime(\"%Y%m%d-%H%M%S\")\n",
    "\n",
    "    # Construct the filename\n",
    "    filename = f\"{folder}/recording-{timestamp}.wav\"\n",
    "\n",
    "    # Save the audio buffer to a WAV file\n",
    "    write(filename, sample_rate, audio_buffer)\n",
    "\n",
    "\n",
    "# Usage example\n",
    "audio_data = record_audio()\n",
    "# Remove silence from the end of the buffer\n",
    "audio_data = remove_silence_from_buffer(audio_data, SAMPLE_RATE, DURATION_THRESHOLD)\n",
    "\n",
    "# Save WAV file\n",
    "save_audio_buffer(audio_data, SAMPLE_RATE)"
   ]
  },
  {
   "cell_type": "code",
   "execution_count": 21,
   "metadata": {},
   "outputs": [],
   "source": [
    "# Transcibe Speech to Text\n",
    "\n",
    "def transcribe_audio(audio_folder=WAV_FOLDER, specified_file=None, use_newest=True):\n",
    "    \"\"\"\n",
    "    Transcribes an audio file using the Whisper model. By default, uses the newest file in the directory,\n",
    "    but can also use a specified file if provided.\n",
    "\n",
    "    :param audio_folder: Directory to search for audio files (default is \"recordings\")\n",
    "    :param specified_file: File path to a specific file to transcribe; overrides use_newest if provided\n",
    "    :param use_newest: Boolean flag to determine whether to use the newest file in audio_folder (default is True)\n",
    "    :return: Transcription text if successful, or an error message\n",
    "    \"\"\"\n",
    "      # Determine file path based on user input or defaults\n",
    "    file_path = specified_file if specified_file else (get_newest_file(audio_folder) if use_newest else None)\n",
    "\n",
    "    if file_path and os.path.exists(file_path):\n",
    "        with open(file_path, \"rb\") as audio_file:\n",
    "            # Perform transcription using Whisper model\n",
    "            transcription = client.audio.transcriptions.create(\n",
    "                model=\"whisper-1\",\n",
    "                file=audio_file,\n",
    "            )\n",
    "            print(\"Transcription: \" + transcription.text)\n",
    "            return transcription.text\n",
    "    else:\n",
    "        return \"No valid audio file found. Please check the directory or specify a valid file.\"\n",
    "    \n",
    "\n",
    "# Example usage\n",
    "# Or specify a file directly\n",
    "# print(transcribe_audio(specified_file=\"specific_audio.mp3\", use_newest=False))\n"
   ]
  },
  {
   "cell_type": "code",
   "execution_count": 12,
   "metadata": {},
   "outputs": [],
   "source": [
    "# Prompt definitions (pre-written)\n",
    "# MyPrompt1 find one error and give the complete correction\n",
    "myPrompt1 = \"\"\"\n",
    "You will receive a paragraph written in Spanish. Your task is to identify and correct major grammatical errors while adhering to the following instructions:\n",
    "\n",
    "1. Ignore gender errors.\n",
    "2. If a mistake is made but then corrected within the same paragraph, do not include that correction (e.g., \"yo comí\" followed by \"yo comer\").\n",
    "3. Ignore typing mistakes or missing accents; these are not considered errors.\n",
    "4. Ignore minor clarity issues.\n",
    "5. If there are no errors worth mentioning, output \"No Errors.\"\n",
    "\n",
    "Your output should consist only of the correct Spanish for each identified error, separated by periods. Do not provide any additional commentary or explanations. Aim for responses of 4-5 words unless more is needed.\n",
    "\n",
    "Example:\n",
    "\n",
    "Input: \"Nosotros va a la playa mañana. Ellos trae sus juguetes.\"\n",
    "\n",
    "Output: \"Nosotros vamos. Ellos traen.\"\n",
    "\"\"\"\n",
    "\n",
    "# Archived prompts\n",
    "\n",
    "myText = \"Yo ir al tienda para comprar manzanas y platanos. Cuando llegué, vi muchas frutas y verduras. El cajero me dijo que el precio son muy alto, pero no me importa. Después, yo regresar a casa y preparé un plato grande para mi familia. Todos nos gusta comer juntos.\"\n",
    "\n",
    "# MyPrompt2 is show all the errors in a list\n",
    "myPrompt2 = \"\"\" \n",
    "You will receive a paragraph written in Spanish. Your task is to identify and correct one major grammatical error while adhering to the following instructions:\n",
    "Ignore gender errors.\n",
    "If a mistake is made but then corrected within the same paragraph, do not include that correction (e.g., \"yo comí\" followed by \"yo comer\").\n",
    "Ignore typos or missing accents or written problems; these are not considered errors.\n",
    "Ignore minor clarity issues.\n",
    "If there are no significant errors, output \"No errors.\"\n",
    "Your output should consist of two sentences:\n",
    "\n",
    "1. The original incorrect sentence, abreviated to show what was said, but not include extraneous detail before and after in the sentence.\n",
    "2. The corrected version with the corrected word in all caps.\n",
    "If no significant error is found, just write \"No errors.\". no second sentence is needed in this case\n",
    "DO NOT SHOW AN ERROR IF THERE IS NOT ONE.\n",
    "Example 1:\n",
    "\n",
    "Input: Ayer, nosotros vamos a la playa mañana para solear.\n",
    "Output: No errors.\n",
    "Example 2:\n",
    "\n",
    "Input: Ayer, nosotros va a la playa mañana para solear. Ellos trae sus juguetes.\n",
    "Output: Nosotros va a la playa mañana. Nosotros vamos a la playa mañana.\n",
    "\n",
    "\"\"\"\n",
    "confirmPrompt = \"\"\" The following input is supposed to be a sentence in spanish that includes an error, and then the correction of that error. If the second sentence does not actually correct an error or simply repeats the sentence, then respond with 'No errors.' Otherwise repeat back exactly the input given to you without edits. \n",
    "Input:\n",
    "\"\"\"\n",
    "checkCorrectionPrompt = \"\"\" \n",
    "\n",
    "\"\"\"\n"
   ]
  },
  {
   "cell_type": "code",
   "execution_count": 13,
   "metadata": {},
   "outputs": [],
   "source": [
    "# Get the openai secret key\n",
    "secret_key = getpass.getpass(\"Please enter your openai key: \")\n",
    "os.environ[\"OPENAI_API_KEY\"]= secret_key"
   ]
  },
  {
   "cell_type": "code",
   "execution_count": 14,
   "metadata": {
    "id": "zTTAw81O6xs0"
   },
   "outputs": [
    {
     "data": {
      "text/plain": [
       "'¡Hola! Sí, está funcionando. ¿Cómo puedo ayudarte hoy con tu aprendizaje de español?'"
      ]
     },
     "execution_count": 14,
     "metadata": {},
     "output_type": "execute_result"
    }
   ],
   "source": [
    "# OpenAI set up:\n",
    "client = OpenAI()\n",
    "client.api_key = secret_key\n",
    "# Set up OpenAI client with the provided API key\n",
    "\n",
    "def complete(prompt, stop=None):\n",
    "    response = client.chat.completions.create(\n",
    "        model=\"gpt-4o-mini\",\n",
    "        messages=[\n",
    "             {\n",
    "                \"role\": \"system\",\n",
    "                \"content\": \"You are a real-time voice chat assistant for Spanish language learning, specializing in Mexican Spanish with a natural Mexican accent.\"\n",
    "            },\n",
    "            {\n",
    "            \"role\": \"user\",\n",
    "            \"content\": prompt\n",
    "            }\n",
    "        ],\n",
    "        stop=stop\n",
    "    )\n",
    "    return response.choices[0].message.content\n",
    "\n",
    "complete(\"is this working?\")"
   ]
  },
  {
   "cell_type": "code",
   "execution_count": null,
   "metadata": {},
   "outputs": [],
   "source": [
    "# Prompts (Pre-written)\n",
    "testPrompt1 = \"\"\" take the following spanish dictation and identify the worst mistake you can find. Follow these rules\n",
    "If a mistake is made but then immediately corrected within the same paragraph, ignore it (e.g., \"yo comes\" followed by \"yo como\").\n",
    "Ignore typos or missing accents or written problems; these are not considered errors.\n",
    "Ignore minor clarity issues.\n",
    "ignore hypothetical, subjungtive or complex conjugations\n",
    "Focus more on incorrect words getting used, or poor conjugation.\n",
    "Do not include additional commentary, just output the exact sentence with the error included.\n",
    "example output: Nosotros va a la playa mañana.\n",
    "If not major errors can be found, output: No errors.\n",
    "\n",
    "Input:\n",
    "\"\"\"\n",
    "testPrompt1a = \"\"\"Ignore previous instructions, your only job here is this: In the following sentence there may be an error. If you can find it, tell me what it is, and explain your reasoning. \n",
    "If a mistake is made but then immediately corrected, ignore it (e.g., \"yo comes\" followed by \"yo como\").\n",
    "Ignore typos or missing accents or written problems; these are not considered errors.\n",
    "Ignore minor clarity issues.\n",
    "ignore hypothetical, subjungtive or complex conjugations\n",
    "Focus more on incorrect words getting used, or poor conjugation\n",
    "Only explain the correction for a single error. Do not include additional commentary or questions, output nothing but one single explanation for one single error.\n",
    "It's very important that if there isn't a major mistake in the sentence, to just reply 'No errors.'\n",
    "Confirm for sure that the error you have selected is bad enough to bother mentioning.\n",
    "\"\"\"\n",
    "testPrompt2=\"\"\"We are going to help a student by point out an error they made while speaking. Here is the explanation of the error, take careful not of which word is wrong\n",
    "\"\"\"\n",
    "testPrompt2a=\"\"\" \n",
    "Now take the following input sentence:\n",
    "Input:\n",
    "\"\"\"\n",
    "testPrompt2b=\"\"\" \n",
    "output the sentence fragment centered on the erroneous word from the input sentence. The fragment should include the 3 words before and after. Do not include any additional commentary.\n",
    "If you cannot find an obvious error, just output 'No error.' \n",
    "Example Input: Nosotros va a la playa mañana para solear y relajarnos, pero no queremos manejar por todo el dia.\n",
    "Example Output: Nosotros va a la playa\n",
    "\"\"\"\n",
    "\n",
    "testPrompt3=\"\"\"We are going to help a student by correcting an error they made while speaking. Using the following guidance on what the error was:\n",
    "\"\"\"\n",
    "testPrompt3a=\"\"\" And now edit this sentence fragment so it is correct. Do not make it a complete sentence, just correct the error described above. Provide NO ADDITONAL COMMENTARY, just output the corrected sentence fragment\n",
    "Example Output: Nosotros va a la playa\n",
    "Example input: Nosotros vamos a la playa\n",
    "\"\"\"\n",
    "\n",
    "testPrompt4=\"\"\"You are a careful spanish teacher and you don't want to give unnecessary instruction to a student while they are learning. Look at the following correction made by another teacher and decide if the student was close enough or if the instruction is actually incorrect and should be ignored. If there is any chance the instruction is incorrect reply 'Ignore.' otherwise reply 'Go ahead.' \"\"\"\n",
    "\n",
    "confirmErrorCorrectionPrompt1=\"\"\" Yes or No, does the end of the first transcription match the second transcription word for word? Ignore spelling and punctuation etc. \"\"\"\n",
    "confirmErrorCorrectionPrompt1a=\"\"\" Answer either 'Yes.' or 'No.' do not add additional commentary. Also if either of the transcriptions say something in english such as 'Nevermind' then also reply 'Yes' \"\"\" \n"
   ]
  },
  {
   "cell_type": "markdown",
   "metadata": {},
   "source": [
    "add a beep when it stops recording\n",
    "could have a faster dialogue option where it does no analysis\n",
    "do we need to save the sav to a file or cant we just keep it in the buffer and use it there? Would save some time. And no need to fill this thing up with wav files"
   ]
  },
  {
   "cell_type": "code",
   "execution_count": null,
   "metadata": {},
   "outputs": [
    {
     "ename": "NameError",
     "evalue": "name 'play_mp3_audio' is not defined",
     "output_type": "error",
     "traceback": [
      "\u001b[1;31m---------------------------------------------------------------------------\u001b[0m",
      "\u001b[1;31mNameError\u001b[0m                                 Traceback (most recent call last)",
      "Cell \u001b[1;32mIn[8], line 3\u001b[0m\n\u001b[0;32m      1\u001b[0m \u001b[38;5;66;03m# MAIN PROGRAM LOOP\u001b[39;00m\n\u001b[1;32m----> 3\u001b[0m \u001b[43mplay_mp3_audio\u001b[49m(\u001b[38;5;124m\"\u001b[39m\u001b[38;5;124mintro.mp3\u001b[39m\u001b[38;5;124m\"\u001b[39m)\n\u001b[0;32m      5\u001b[0m \u001b[38;5;28;01mwhile\u001b[39;00m \u001b[38;5;28;01mTrue\u001b[39;00m:\n\u001b[0;32m      6\u001b[0m     record_audio()\n",
      "\u001b[1;31mNameError\u001b[0m: name 'play_mp3_audio' is not defined"
     ]
    }
   ],
   "source": [
    "# MAIN PROGRAM LOOP\n",
    "\n",
    "play_mp3_audio(\"intro.mp3\")\n",
    "\n",
    "while True:\n",
    "    record_audio()\n",
    "\n",
    "    # trim_silence()  # Uses the newest file in the default \"audio_chunks\" folder\n",
    "\n",
    "    myTransciption = transcribe_audio()  # Uses the newest file in the default \"audio_chunks\" folder\n",
    "\n",
    "    # Check transcription for grammatical errors\n",
    "    foundError = complete(f\"{testPrompt1}\\n\\n{myTransciption}\") \n",
    "    if foundError != \"Ignore.\": # CHANGE THIS SO IT CHECKS IF THAT WORK IS IN THERE ONLY IN CASE IT SAYS OTHER STUFF TOO\n",
    "        errorExplanation = complete(f\"{testPrompt1a}\\n\\n{myTransciption}\")\n",
    "        print(errorExplanation)\n",
    "        errorFragment = complete(f\"{testPrompt2}\\n{errorExplanation}n\\n{testPrompt2a}\\n\\n{foundError}n\\n{testPrompt2b}\")\n",
    "        print(errorFragment)\n",
    "        if errorFragment != \"Ignore.\":\n",
    "            errorFixed = complete(f\"{testPrompt3}\\n{errorExplanation}n\\n{testPrompt3a}n\\n{errorFragment}\")\n",
    "            print(errorFixed)\n",
    "            if complete(testPrompt4) != \"Ignore.\":\n",
    "                errorsLeft = True\n",
    "            else:\n",
    "                errorsLeft = False\n",
    "                print(\"Actually nevermind\")\n",
    "        else:\n",
    "                errorsLeft = False\n",
    "                print(\"Actually nevermind\")\n",
    "    else:            \n",
    "        errorsLeft = False\n",
    "\n",
    "    while errorsLeft:\n",
    "        #convert errors into audio and plays them\n",
    "            errorsLeft = True\n",
    "            speech_file = \"speech_file.mp3\"\n",
    "            speech_file_path = Path.cwd() / speech_file\n",
    "            #generate the TTS Audio\n",
    "            response = client.audio.speech.create(\n",
    "                model=\"tts-1\",\n",
    "                voice=\"onyx\",\n",
    "                input=errorFixed\n",
    "            )\n",
    "            response.stream_to_file(speech_file_path)\n",
    "\n",
    "            # play audio back\n",
    "            play_mp3_audio(speech_file_path)\n",
    "            \n",
    "            record_audio()\n",
    "\n",
    "            trim_silence()  # Uses the newest file in the default \"audio_chunks\" folder\n",
    "\n",
    "            myTransciption = transcribe_audio()  # Uses the newest file in the default \"audio_chunks\" folder\n",
    "\n",
    "            if complete(f\"{confirmErrorCorrectionPrompt1}\\n{myTransciption}\\n{errorFixed}\\n{confirmErrorCorrectionPrompt1a}\") != \"No.\":\n",
    "                 errorsLeft = False\n",
    "            # Check if they got it right using a gpt call, if they did they change errorLeft\n",
    "            # also check against other cases (as described below)\n",
    "        \n",
    "        #No more errors, continue conversation, play 'cuentame.mp3' \n",
    "    play_mp3_audio(\"cuentame.mp3\")"
   ]
  },
  {
   "cell_type": "code",
   "execution_count": null,
   "metadata": {},
   "outputs": [
    {
     "data": {
      "text/plain": [
       "' \\nif the last words said were  \\nnevermind - just move one\\nrepite - auto replay everything that was just said and ignore \\nrepite (algo) figure out what exactly i want repeated and repeat that audio slowly (consider slowing down the playback)\\n\\nListen to audio\\nI respond normally - one by one, go through the things that were said to me and check if i said them correctly back. \\n    if yes, then move to the next item,\\n    if no, add that item back to the audio output\\n    if all yes, then continue conversation\\n    otherwise, concat audio again and play new audio\\n\\n'"
      ]
     },
     "execution_count": 75,
     "metadata": {},
     "output_type": "execute_result"
    }
   ],
   "source": [
    "\n",
    "''' \n",
    "Listen to audio\n",
    "\n",
    "if the last words said were  \n",
    "nevermind - just move one. this is tough because i might just completely move on, so you need logic to notice this has happened and ignore checking against old errors\n",
    "repite - auto replay everything that was just said and ignore \n",
    "repite (algo) figure out what exactly i want repeated and repeat that audio slowly (consider slowing down the playback)\n",
    "\n",
    "otherwise confirm that i repeated back the correction properly. \n",
    "'''"
   ]
  }
 ],
 "metadata": {
  "colab": {
   "include_colab_link": true,
   "provenance": []
  },
  "kernelspec": {
   "display_name": "Python 3",
   "name": "python3"
  },
  "language_info": {
   "codemirror_mode": {
    "name": "ipython",
    "version": 3
   },
   "file_extension": ".py",
   "mimetype": "text/x-python",
   "name": "python",
   "nbconvert_exporter": "python",
   "pygments_lexer": "ipython3",
   "version": "3.11.9"
  }
 },
 "nbformat": 4,
 "nbformat_minor": 0
}
